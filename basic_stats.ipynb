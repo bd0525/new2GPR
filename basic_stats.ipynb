{
  "nbformat": 4,
  "nbformat_minor": 0,
  "metadata": {
    "colab": {
      "provenance": [],
      "authorship_tag": "ABX9TyOeJl5rvnIr71OYpaOZuBLR",
      "include_colab_link": true
    },
    "kernelspec": {
      "name": "python3",
      "display_name": "Python 3"
    },
    "language_info": {
      "name": "python"
    }
  },
  "cells": [
    {
      "cell_type": "markdown",
      "metadata": {
        "id": "view-in-github",
        "colab_type": "text"
      },
      "source": [
        "<a href=\"https://colab.research.google.com/github/bd0525/new2GPR/blob/main/basic_stats.ipynb\" target=\"_parent\"><img src=\"https://colab.research.google.com/assets/colab-badge.svg\" alt=\"Open In Colab\"/></a>"
      ]
    },
    {
      "cell_type": "markdown",
      "source": [
        "The Wikipedia page on [algorithms for calculating variance and covariance](https://https://en.wikipedia.org/wiki/Algorithms_for_calculating_variance#Covariance) is a great resource for familiarizing yourself with various algorithms for computing variance and covariance."
      ],
      "metadata": {
        "id": "X0D_PJSBUtww"
      }
    },
    {
      "cell_type": "code",
      "execution_count": null,
      "metadata": {
        "id": "ESZ27TjAKKGw"
      },
      "outputs": [],
      "source": []
    },
    {
      "cell_type": "markdown",
      "source": [
        "**Note:** As a non-native English speaker, the language of this manuscript was reviewed and refined with the assistance of ChatGPT."
      ],
      "metadata": {
        "id": "glDKidy8eHc7"
      }
    }
  ]
}