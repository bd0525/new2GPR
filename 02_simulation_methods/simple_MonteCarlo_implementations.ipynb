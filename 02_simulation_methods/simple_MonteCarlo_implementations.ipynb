{
 "cells": [
  {
   "cell_type": "markdown",
   "id": "c5820764-8eca-410d-9b4d-0175124edd43",
   "metadata": {},
   "source": [
    "**Monte Carlo Example**\n",
    "\n",
    "Assume U and V are independent Uniform(0,1) random variables.\n",
    "Let \n",
    "$$\n",
    "X = \\frac{U^2}{1+V^2}\n",
    "$$\n",
    "\n",
    "**Question**\n",
    "\n",
    "What is the probability that $X>\\frac{1}{2}$?"
   ]
  },
  {
   "cell_type": "code",
   "execution_count": 4,
   "id": "99dfcef2-aa29-4e6f-9e1f-c983c89e5010",
   "metadata": {
    "tags": []
   },
   "outputs": [
    {
     "name": "stdout",
     "output_type": "stream",
     "text": [
      "phat = 0.189\n",
      "sd = 0.391\n",
      "se = 0.003913496646223171\n",
      "ci lower = 0.18132954657340258\n",
      "ci upper = 0.19667045342659742\n"
     ]
    }
   ],
   "source": [
    "import numpy as np\n",
    "ntrials=10000\n",
    "X=np.zeros(ntrials)\n",
    "for i in range(ntrials):\n",
    "    U=np.random.uniform(0,1,1)\n",
    "    V=np.random.uniform(0,1,1)\n",
    "    X[i]=(U**2)/(1+V**2)\n",
    "Y=X>.5\n",
    "phat=round(Y.mean(),3)\n",
    "print(\"phat = \"+str(phat))\n",
    "sd=Y.std()\n",
    "print(\"sd = \"+str(round(sd,3)))\n",
    "se=sd/np.sqrt(ntrials)\n",
    "print(\"se = \"+str(se))\n",
    "cilower=phat-1.96*se\n",
    "ciupper=phat+1.96*se\n",
    "print(\"ci lower = \"+str(cilower))\n",
    "print(\"ci upper = \"+str(ciupper))"
   ]
  },
  {
   "cell_type": "markdown",
   "id": "ebda5b78-f9f1-4555-b512-2f842b8b1b9d",
   "metadata": {},
   "source": [
    "**Question**\n",
    "\n",
    "What is the expected value of $e^{-X}$?"
   ]
  },
  {
   "cell_type": "code",
   "execution_count": 2,
   "id": "30472305-83f9-4e41-9b50-983e85c5e6fb",
   "metadata": {
    "tags": []
   },
   "outputs": [
    {
     "name": "stdout",
     "output_type": "stream",
     "text": [
      "muhat = 0.7901722518974399\n",
      "sd = 0.1750216029204206\n",
      "se = 0.001750216029204206\n",
      "ci lower = 0.7867418284801997\n",
      "ci upper = 0.7936026753146801\n"
     ]
    }
   ],
   "source": [
    "import numpy as np\n",
    "ntrials=10000\n",
    "X=np.zeros(ntrials)\n",
    "for i in range(ntrials):\n",
    "    U=np.random.uniform(0,1,1)\n",
    "    V=np.random.uniform(0,1,1)\n",
    "    X[i]=(U**2)/(1+V**2)\n",
    "Y=np.exp(-X) # g(X)'s\n",
    "muhat=Y.mean()\n",
    "print(\"muhat = \"+str(muhat))\n",
    "sd=Y.std()\n",
    "print(\"sd = \"+str(sd))\n",
    "se=sd/np.sqrt(ntrials)\n",
    "print(\"se = \"+str(se))\n",
    "cilower=muhat-1.96*se\n",
    "ciupper=muhat+1.96*se\n",
    "print(\"ci lower = \"+str(cilower))\n",
    "print(\"ci upper = \"+str(ciupper))"
   ]
  },
  {
   "cell_type": "markdown",
   "id": "a670b428-45b8-4f12-aa0f-48b34e0eae5f",
   "metadata": {},
   "source": [
    "**Vectorized code**\n",
    "\n",
    "The following code runs faster. We write a numpy function that takes a dummy argument and returns a realization."
   ]
  },
  {
   "cell_type": "code",
   "execution_count": 5,
   "id": "3972a343-5297-457c-bc1c-61a59b8b23ba",
   "metadata": {},
   "outputs": [
    {
     "name": "stdout",
     "output_type": "stream",
     "text": [
      "muhat = [0.26128253]\n",
      "sd = [0.24535411]\n",
      "se = [0.00077588]\n",
      "ci lower = [0.25976181]\n",
      "ci upper = [0.26280325]\n"
     ]
    }
   ],
   "source": [
    "import numpy as np\n",
    "\n",
    "def generate_realization(x):\n",
    "    U=np.random.uniform(0,1,1)\n",
    "    V=np.random.uniform(0,1,1)\n",
    "    X=(U**2)/(1+V**2)\n",
    "    Y=np.exp(-X) # g(X)'s \n",
    "    return(X)\n",
    "\n",
    "g=np.frompyfunc(generate_realization,1,1)\n",
    "ntrials=100000\n",
    "X=np.zeros(ntrials)\n",
    "Y=g(X)\n",
    "\n",
    "muhat=Y.mean()\n",
    "print(\"muhat = \"+str(muhat))\n",
    "sd=Y.std()\n",
    "print(\"sd = \"+str(sd))\n",
    "se=sd/np.sqrt(ntrials)\n",
    "print(\"se = \"+str(se))\n",
    "cilower=muhat-1.96*se\n",
    "ciupper=muhat+1.96*se\n",
    "print(\"ci lower = \"+str(cilower))\n",
    "print(\"ci upper = \"+str(ciupper))"
   ]
  }
 ],
 "metadata": {
  "kernelspec": {
   "display_name": "Python 3",
   "language": "python",
   "name": "python3"
  },
  "language_info": {
   "codemirror_mode": {
    "name": "ipython",
    "version": 3
   },
   "file_extension": ".py",
   "mimetype": "text/x-python",
   "name": "python",
   "nbconvert_exporter": "python",
   "pygments_lexer": "ipython3",
   "version": "3.11.9"
  }
 },
 "nbformat": 4,
 "nbformat_minor": 5
}
