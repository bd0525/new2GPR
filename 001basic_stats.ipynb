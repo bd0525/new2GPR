{
  "nbformat": 4,
  "nbformat_minor": 0,
  "metadata": {
    "colab": {
      "provenance": [],
      "authorship_tag": "ABX9TyMP10bi8jzuLvbNn+zdPkCY",
      "include_colab_link": true
    },
    "kernelspec": {
      "name": "python3",
      "display_name": "Python 3"
    },
    "language_info": {
      "name": "python"
    }
  },
  "cells": [
    {
      "cell_type": "markdown",
      "metadata": {
        "id": "view-in-github",
        "colab_type": "text"
      },
      "source": [
        "<a href=\"https://colab.research.google.com/github/bd0525/new2GPR/blob/main/001basic_stats.ipynb\" target=\"_parent\"><img src=\"https://colab.research.google.com/assets/colab-badge.svg\" alt=\"Open In Colab\"/></a>"
      ]
    },
    {
      "cell_type": "markdown",
      "source": [
        "The Wikipedia page on [algorithms for calculating variance and covariance](https://https://en.wikipedia.org/wiki/Algorithms_for_calculating_variance#Covariance) is a great resource for familiarizing myself with various algorithms for computing variance and covariance."
      ],
      "metadata": {
        "id": "X0D_PJSBUtww"
      }
    },
    {
      "cell_type": "markdown",
      "source": [
        "Consider supervised learning, where each input has a corresponding output. We then let $D$ a training dataset with $n$ observations$D=\\{(x_i,y_i)|i=0,...,n\\}$. The first thing we want to do is generate some random data for later use."
      ],
      "metadata": {
        "id": "pRddaL-DkONE"
      }
    },
    {
      "cell_type": "code",
      "execution_count": 19,
      "metadata": {
        "colab": {
          "base_uri": "https://localhost:8080/",
          "height": 589
        },
        "id": "ESZ27TjAKKGw",
        "outputId": "299d2665-3e34-497e-a084-a828adbe8e45"
      },
      "outputs": [
        {
          "output_type": "stream",
          "name": "stdout",
          "text": [
            "[[ 0.58814827 -1.92630729]\n",
            " [ 3.91414522 -1.83841173]\n",
            " [ 1.51433731  0.63093122]\n",
            " [ 6.89939473 -0.08148125]\n",
            " [ 2.38392185 -8.77896794]\n",
            " [ 5.30708581 -9.73640584]\n",
            " [ 8.14979228  1.5577894 ]\n",
            " [-0.08619778  0.43211092]\n",
            " [ 7.08979984 -2.00974574]\n",
            " [ 8.2593855  -2.30466578]]\n"
          ]
        },
        {
          "output_type": "display_data",
          "data": {
            "text/plain": [
              "<Figure size 800x400 with 1 Axes>"
            ],
            "image/png": "[encoded data removed]"
          },
          "metadata": {}
        }
      ],
      "source": [
        "import numpy as np\n",
        "import matplotlib.pyplot as plt\n",
        "\n",
        "# Set the number of pairs you would like\n",
        "num_pairs = 10\n",
        "\n",
        "# Set the range for x and y coordinates\n",
        "x_min, x_max = -1, 10\n",
        "y_min, y_max = -10, 3\n",
        "\n",
        "# Generate random numbers for x and y coordinates\n",
        "x = np.random.uniform(x_min, x_max, num_pairs)\n",
        "y = np.random.uniform(y_min, y_max, num_pairs)\n",
        "# Make x, y into pairs\n",
        "pairs = np.column_stack((x, y))\n",
        "\n",
        "print(pairs)\n",
        "\n",
        "# Plotting the (x,y) pair\n",
        "fig, ax = plt.subplots(figsize=(8, 4)) # Set the figure size\n",
        "ax.scatter(x, y, color='blue')  # Plot x and y as blue scatter plot\n",
        "ax.set_title('Random (x, y) Pairs') # Plot title\n",
        "ax.set_xlabel('x')\n",
        "ax.set_ylabel('y')\n",
        "ax.grid(True)\n",
        "ax.set_xlim(x_min, x_max)  # The limits for x-axis\n",
        "ax.set_ylim(y_min, y_max)  # The limits for y-axis"
      ]
    },
    {
      "cell_type": "markdown",
      "source": [
        "For a set of $(x,y)$ pair, we should focus on its statistical characteristics that provide insights into the data:\n",
        "\n",
        "**Mean:** The average of the x values and the y values. Calculate the mean using **np.mean()**;\n",
        "\n",
        "**Variance:** The spread of the x values and the spread of the y values. Calculate the variance of using **np.var()**;\n",
        "\n",
        "**Standard Deviation:** How much the x values and y values deviate from their respective means. Calculate the standard deviation using **np.std()**;\n",
        "\n",
        "**Covariance:** How the x and y values vary together. Calculate the covariance using **np.cov(x, y)**;\n",
        "\n",
        "**Correlation:** The strength and direction of the linear relationship between x and y. Calculate the correlation using **np.corrcoef(x, y)**."
      ],
      "metadata": {
        "id": "DNmUzKQkq9DR"
      }
    },
    {
      "cell_type": "code",
      "source": [
        "# Calculate the mean of x and y\n",
        "mean_x = np.mean(x)\n",
        "mean_y = np.mean(y)\n",
        "\n",
        "# Calculate the variance of x and y\n",
        "var_x = np.var(x)\n",
        "var_y = np.var(y)\n",
        "\n",
        "# Calculate the standard deviation of x and y\n",
        "std_x = np.std(x)\n",
        "std_y = np.std(y)\n",
        "\n",
        "# Calculate the covariance\n",
        "cov_xy = np.cov(x, y)[0, 1]\n",
        "\n",
        "# Calculate the correlation\n",
        "corr_xy = np.corrcoef(x, y)[0, 1]\n",
        "\n",
        "# Subplot\n",
        "plt.axvline(x = mean_x, color = 'b', label = 'axvline - full height')\n",
        "plt.axhline(y = mean_y, color = 'r', label = 'axhline - full width')"
      ],
      "metadata": {
        "id": "vpAdJ4yWtKFA"
      },
      "execution_count": 20,
      "outputs": []
    },
    {
      "cell_type": "markdown",
      "source": [
        "**Note:** As a non-native English speaker, the language of this manuscript was reviewed and refined with the assistance of ChatGPT."
      ],
      "metadata": {
        "id": "glDKidy8eHc7"
      }
    }
  ]
}