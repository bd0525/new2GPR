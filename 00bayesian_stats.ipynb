{
  "nbformat": 4,
  "nbformat_minor": 0,
  "metadata": {
    "colab": {
      "provenance": [],
      "authorship_tag": "ABX9TyPvG4UG4FNIK8AUJ5Q2FbXR",
      "include_colab_link": true
    },
    "kernelspec": {
      "name": "python3",
      "display_name": "Python 3"
    },
    "language_info": {
      "name": "python"
    }
  },
  "cells": [
    {
      "cell_type": "markdown",
      "metadata": {
        "id": "view-in-github",
        "colab_type": "text"
      },
      "source": [
        "<a href=\"https://colab.research.google.com/github/bd0525/new2GPR/blob/main/00bayesian_stats.ipynb\" target=\"_parent\"><img src=\"https://colab.research.google.com/assets/colab-badge.svg\" alt=\"Open In Colab\"/></a>"
      ]
    },
    {
      "cell_type": "markdown",
      "source": [
        "# A.&nbsp;Bayes' theorem"
      ],
      "metadata": {
        "id": "IDQxq6hpVmJu"
      }
    },
    {
      "cell_type": "code",
      "execution_count": null,
      "metadata": {
        "id": "LAL89fstTwCa"
      },
      "outputs": [],
      "source": []
    },
    {
      "cell_type": "markdown",
      "source": [
        "# Reference\n",
        "[1]&nbsp;Peter D. Hoff. 2009. A First Course in Bayesian Statistical Methods (1st. ed.). Springer Publishing Company, Incorporated.<br>"
      ],
      "metadata": {
        "id": "Z5t5FvvmUUzZ"
      }
    }
  ]
}