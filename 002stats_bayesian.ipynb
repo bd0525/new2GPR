{
 "cells": [
  {
   "cell_type": "markdown",
   "metadata": {
    "id": "IDQxq6hpVmJu"
   },
   "source": [
    "# A.&nbsp;Bayes' theorem"
   ]
  },
  {
   "cell_type": "markdown",
   "metadata": {},
   "source": [
    "From the Law of Total Probability, we have:<br>\n",
    "\n",
    "$$\n",
    "\\begin{aligned}\n",
    "p(A, B) &= P(A \\mid B)P(B) = P(B \\mid A)P(A) \\\\\n",
    "P(A \\mid B) &= \\frac{P(B \\mid A)P(A)}{P(B)}\n",
    "\\end{aligned}\n",
    "$$"
   ]
  },
  {
   "cell_type": "code",
   "execution_count": null,
   "metadata": {
    "id": "LAL89fstTwCa"
   },
   "outputs": [],
   "source": []
  },
  {
   "cell_type": "markdown",
   "metadata": {
    "id": "Z5t5FvvmUUzZ"
   },
   "source": [
    "# Reference\n",
    "[1]&nbsp;Peter D. Hoff. 2009. A First Course in Bayesian Statistical Methods (1st. ed.). Springer Publishing Company, Incorporated.<br>\n",
    "[2]&nbsp;Wikipedia contributors. (2024, September 5). Bayes' theorem. In Wikipedia, The Free Encyclopedia. Retrieved 04:09, September 14, 2024, from https://en.wikipedia.org/w/index.php?title=Bayes%27_theorem&oldid=1244247876<br>"
   ]
  }
 ],
 "metadata": {
  "colab": {
   "authorship_tag": "ABX9TyODGrTvoaWeznLzb7xaegiz",
   "provenance": []
  },
  "kernelspec": {
   "display_name": "Python 3",
   "name": "python3"
  },
  "language_info": {
   "name": "python",
   "version": "3.11.5"
  }
 },
 "nbformat": 4,
 "nbformat_minor": 0
}
